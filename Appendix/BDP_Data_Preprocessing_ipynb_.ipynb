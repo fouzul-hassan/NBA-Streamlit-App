{
  "nbformat": 4,
  "nbformat_minor": 0,
  "metadata": {
    "colab": {
      "provenance": []
    },
    "kernelspec": {
      "name": "python3",
      "display_name": "Python 3"
    },
    "language_info": {
      "name": "python"
    }
  },
  "cells": [
    {
      "cell_type": "code",
      "execution_count": 1,
      "metadata": {
        "id": "gvPgeXx7AuEW"
      },
      "outputs": [],
      "source": [
        "!apt-get install openjdk-8-jdk-headless -qq > /dev/null\n",
        "!wget -q https://archive.apache.org/dist/spark/spark-3.4.1/spark-3.4.1-bin-hadoop3.tgz\n",
        "!tar xf spark-3.4.1-bin-hadoop3.tgz\n",
        "!pip install -q findspark\n"
      ]
    },
    {
      "cell_type": "code",
      "source": [
        "import os\n",
        "os.environ[\"JAVA_HOME\"] = \"/usr/lib/jvm/java-8-openjdk-amd64\"\n",
        "os.environ[\"SPARK_HOME\"] = \"/content/spark-3.4.1-bin-hadoop3\"\n",
        "os.environ[\"HADOOP_HOME\"] = \"/content/spark-3.4.1-bin-hadoop3\" # Add Hadoop home for consistency with Spark\n",
        "os.environ[\"PATH\"] += os.pathsep + os.environ[\"SPARK_HOME\"] + \"/bin\"\n",
        "os.environ[\"PATH\"] += os.pathsep + os.environ[\"HADOOP_HOME\"] + \"/bin\" # Add Hadoop path\n",
        "os.environ[\"PYSPARK_PYTHON\"] = \"/usr/bin/python3\"  # Use Python3 explicitly\n"
      ],
      "metadata": {
        "id": "1LsUXDqyDWH3"
      },
      "execution_count": 2,
      "outputs": []
    },
    {
      "cell_type": "code",
      "source": [
        "# Install PySpark\n",
        "!pip install -q findspark"
      ],
      "metadata": {
        "id": "o-3Y3NiQBeAw"
      },
      "execution_count": 3,
      "outputs": []
    },
    {
      "cell_type": "code",
      "source": [
        "# Initialize Spark\n",
        "import findspark\n",
        "import os\n",
        "findspark.init()\n",
        "from pyspark.sql import SparkSession\n",
        "\n",
        "spark = SparkSession.builder \\\n",
        "    .appName(\"NBA-Analysis2\") \\\n",
        "    .master(\"local[*]\") \\\n",
        "    .config(\"spark.driver.extraClassPath\", os.environ[\"HADOOP_HOME\"] + \"/etc/hadoop/*\") \\\n",
        "    .getOrCreate()\n",
        "\n",
        "spark"
      ],
      "metadata": {
        "colab": {
          "base_uri": "https://localhost:8080/",
          "height": 219
        },
        "id": "kNJYVxHPqfh2",
        "outputId": "0892bac7-fa71-41d7-ccc6-3c4929d514ef"
      },
      "execution_count": 4,
      "outputs": [
        {
          "output_type": "execute_result",
          "data": {
            "text/plain": [
              "<pyspark.sql.session.SparkSession at 0x783852fbec10>"
            ],
            "text/html": [
              "\n",
              "            <div>\n",
              "                <p><b>SparkSession - in-memory</b></p>\n",
              "                \n",
              "        <div>\n",
              "            <p><b>SparkContext</b></p>\n",
              "\n",
              "            <p><a href=\"http://5cfe9fa62dd3:4040\">Spark UI</a></p>\n",
              "\n",
              "            <dl>\n",
              "              <dt>Version</dt>\n",
              "                <dd><code>v3.4.1</code></dd>\n",
              "              <dt>Master</dt>\n",
              "                <dd><code>local[*]</code></dd>\n",
              "              <dt>AppName</dt>\n",
              "                <dd><code>NBA-Analysis2</code></dd>\n",
              "            </dl>\n",
              "        </div>\n",
              "        \n",
              "            </div>\n",
              "        "
            ]
          },
          "metadata": {},
          "execution_count": 4
        }
      ]
    },
    {
      "cell_type": "code",
      "source": [
        "df = spark.read.csv(\"dataset2.csv\", header=True, inferSchema=True)\n",
        "print(df)"
      ],
      "metadata": {
        "colab": {
          "base_uri": "https://localhost:8080/"
        },
        "id": "NjPFk_7PCBhQ",
        "outputId": "c2648c59-15ec-4338-8afd-3de720c87fc2"
      },
      "execution_count": 5,
      "outputs": [
        {
          "output_type": "stream",
          "name": "stdout",
          "text": [
            "DataFrame[EVENTID: int, EVENTNUM: int, GAME_ID: int, HOMEDESCRIPTION: string, PCTIMESTRING: timestamp, PERIOD: int, PLAYER1_ID: int, PLAYER1_NAME: string, PLAYER1_TEAM_ABBREVIATION: string, PLAYER1_TEAM_CITY: string, PLAYER1_TEAM_ID: int, PLAYER1_TEAM_NICKNAME: string, PLAYER2_ID: int, PLAYER2_NAME: string, PLAYER2_TEAM_ABBREVIATION: string, PLAYER2_TEAM_CITY: string, PLAYER2_TEAM_ID: int, PLAYER2_TEAM_NICKNAME: string, PLAYER3_ID: int, PLAYER3_NAME: string, PLAYER3_TEAM_ABBREVIATION: string, PLAYER3_TEAM_CITY: string, PLAYER3_TEAM_ID: int, PLAYER3_TEAM_NICKNAME: string, SCORE: string, SCOREMARGIN: string, VISITORDESCRIPTION: string]\n"
          ]
        }
      ]
    },
    {
      "cell_type": "code",
      "source": [
        "df"
      ],
      "metadata": {
        "colab": {
          "base_uri": "https://localhost:8080/"
        },
        "id": "owPWCZ4tExtt",
        "outputId": "d33b34d5-904f-4443-eda1-2e51e4805ef3"
      },
      "execution_count": 6,
      "outputs": [
        {
          "output_type": "execute_result",
          "data": {
            "text/plain": [
              "DataFrame[EVENTID: int, EVENTNUM: int, GAME_ID: int, HOMEDESCRIPTION: string, PCTIMESTRING: timestamp, PERIOD: int, PLAYER1_ID: int, PLAYER1_NAME: string, PLAYER1_TEAM_ABBREVIATION: string, PLAYER1_TEAM_CITY: string, PLAYER1_TEAM_ID: int, PLAYER1_TEAM_NICKNAME: string, PLAYER2_ID: int, PLAYER2_NAME: string, PLAYER2_TEAM_ABBREVIATION: string, PLAYER2_TEAM_CITY: string, PLAYER2_TEAM_ID: int, PLAYER2_TEAM_NICKNAME: string, PLAYER3_ID: int, PLAYER3_NAME: string, PLAYER3_TEAM_ABBREVIATION: string, PLAYER3_TEAM_CITY: string, PLAYER3_TEAM_ID: int, PLAYER3_TEAM_NICKNAME: string, SCORE: string, SCOREMARGIN: string, VISITORDESCRIPTION: string]"
            ]
          },
          "metadata": {},
          "execution_count": 6
        }
      ]
    },
    {
      "cell_type": "code",
      "source": [
        "df.printSchema()\n",
        "df.columns"
      ],
      "metadata": {
        "colab": {
          "base_uri": "https://localhost:8080/"
        },
        "id": "CU0sNYhoBh9h",
        "outputId": "2e5d8df9-f44d-4827-9202-088d097c77ca"
      },
      "execution_count": 7,
      "outputs": [
        {
          "output_type": "stream",
          "name": "stdout",
          "text": [
            "root\n",
            " |-- EVENTID: integer (nullable = true)\n",
            " |-- EVENTNUM: integer (nullable = true)\n",
            " |-- GAME_ID: integer (nullable = true)\n",
            " |-- HOMEDESCRIPTION: string (nullable = true)\n",
            " |-- PCTIMESTRING: timestamp (nullable = true)\n",
            " |-- PERIOD: integer (nullable = true)\n",
            " |-- PLAYER1_ID: integer (nullable = true)\n",
            " |-- PLAYER1_NAME: string (nullable = true)\n",
            " |-- PLAYER1_TEAM_ABBREVIATION: string (nullable = true)\n",
            " |-- PLAYER1_TEAM_CITY: string (nullable = true)\n",
            " |-- PLAYER1_TEAM_ID: integer (nullable = true)\n",
            " |-- PLAYER1_TEAM_NICKNAME: string (nullable = true)\n",
            " |-- PLAYER2_ID: integer (nullable = true)\n",
            " |-- PLAYER2_NAME: string (nullable = true)\n",
            " |-- PLAYER2_TEAM_ABBREVIATION: string (nullable = true)\n",
            " |-- PLAYER2_TEAM_CITY: string (nullable = true)\n",
            " |-- PLAYER2_TEAM_ID: integer (nullable = true)\n",
            " |-- PLAYER2_TEAM_NICKNAME: string (nullable = true)\n",
            " |-- PLAYER3_ID: integer (nullable = true)\n",
            " |-- PLAYER3_NAME: string (nullable = true)\n",
            " |-- PLAYER3_TEAM_ABBREVIATION: string (nullable = true)\n",
            " |-- PLAYER3_TEAM_CITY: string (nullable = true)\n",
            " |-- PLAYER3_TEAM_ID: integer (nullable = true)\n",
            " |-- PLAYER3_TEAM_NICKNAME: string (nullable = true)\n",
            " |-- SCORE: string (nullable = true)\n",
            " |-- SCOREMARGIN: string (nullable = true)\n",
            " |-- VISITORDESCRIPTION: string (nullable = true)\n",
            "\n"
          ]
        },
        {
          "output_type": "execute_result",
          "data": {
            "text/plain": [
              "['EVENTID',\n",
              " 'EVENTNUM',\n",
              " 'GAME_ID',\n",
              " 'HOMEDESCRIPTION',\n",
              " 'PCTIMESTRING',\n",
              " 'PERIOD',\n",
              " 'PLAYER1_ID',\n",
              " 'PLAYER1_NAME',\n",
              " 'PLAYER1_TEAM_ABBREVIATION',\n",
              " 'PLAYER1_TEAM_CITY',\n",
              " 'PLAYER1_TEAM_ID',\n",
              " 'PLAYER1_TEAM_NICKNAME',\n",
              " 'PLAYER2_ID',\n",
              " 'PLAYER2_NAME',\n",
              " 'PLAYER2_TEAM_ABBREVIATION',\n",
              " 'PLAYER2_TEAM_CITY',\n",
              " 'PLAYER2_TEAM_ID',\n",
              " 'PLAYER2_TEAM_NICKNAME',\n",
              " 'PLAYER3_ID',\n",
              " 'PLAYER3_NAME',\n",
              " 'PLAYER3_TEAM_ABBREVIATION',\n",
              " 'PLAYER3_TEAM_CITY',\n",
              " 'PLAYER3_TEAM_ID',\n",
              " 'PLAYER3_TEAM_NICKNAME',\n",
              " 'SCORE',\n",
              " 'SCOREMARGIN',\n",
              " 'VISITORDESCRIPTION']"
            ]
          },
          "metadata": {},
          "execution_count": 7
        }
      ]
    },
    {
      "cell_type": "code",
      "source": [
        "df.show(5)"
      ],
      "metadata": {
        "colab": {
          "base_uri": "https://localhost:8080/"
        },
        "id": "_K7KeNU6JQIi",
        "outputId": "8806a628-6af8-4ace-89d4-707bba4a7158"
      },
      "execution_count": 8,
      "outputs": [
        {
          "output_type": "stream",
          "name": "stdout",
          "text": [
            "+-------+--------+--------+--------------------+-------------------+------+----------+-------------+-------------------------+-----------------+---------------+---------------------+----------+---------------+-------------------------+-----------------+---------------+---------------------+----------+------------+-------------------------+-----------------+---------------+---------------------+------+-----------+--------------------+\n",
            "|EVENTID|EVENTNUM| GAME_ID|     HOMEDESCRIPTION|       PCTIMESTRING|PERIOD|PLAYER1_ID| PLAYER1_NAME|PLAYER1_TEAM_ABBREVIATION|PLAYER1_TEAM_CITY|PLAYER1_TEAM_ID|PLAYER1_TEAM_NICKNAME|PLAYER2_ID|   PLAYER2_NAME|PLAYER2_TEAM_ABBREVIATION|PLAYER2_TEAM_CITY|PLAYER2_TEAM_ID|PLAYER2_TEAM_NICKNAME|PLAYER3_ID|PLAYER3_NAME|PLAYER3_TEAM_ABBREVIATION|PLAYER3_TEAM_CITY|PLAYER3_TEAM_ID|PLAYER3_TEAM_NICKNAME| SCORE|SCOREMARGIN|  VISITORDESCRIPTION|\n",
            "+-------+--------+--------+--------------------+-------------------+------+----------+-------------+-------------------------+-----------------+---------------+---------------------+----------+---------------+-------------------------+-----------------+---------------+---------------------+----------+------------+-------------------------+-----------------+---------------+---------------------+------+-----------+--------------------+\n",
            "|      0|       0|20001116|                null|2025-04-19 12:00:00|     1|         0|         null|                     null|             null|           null|                 null|         0|           null|                     null|             null|           null|                 null|         0|        null|                     null|             null|           null|                 null|  null|       null|                null|\n",
            "|      1|       1|20001116|Jump Ball Grant v...|2025-04-19 12:00:00|     1|       258|  Brian Grant|                      MIA|            Miami|     1610612748|                 Heat|        87|Dikembe Mutombo|                      PHI|     Philadelphia|     1610612755|                76ers|       238| Tyrone Hill|                      PHI|     Philadelphia|     1610612755|                76ers|  null|       null|                null|\n",
            "|      2|       2|20001116|                null|2025-04-19 11:45:00|     1|       947|Allen Iverson|                      PHI|     Philadelphia|     1610612755|                76ers|         0|           null|                     null|             null|           null|                 null|         0|        null|                     null|             null|           null|                 null| 2 - 0|         -2|Iverson 21' Jump ...|\n",
            "|      3|       3|20001116|                null|2025-04-19 11:28:00|     1|       238|  Tyrone Hill|                      PHI|     Philadelphia|     1610612755|                76ers|         0|           null|                     null|             null|           null|                 null|         0|        null|                     null|             null|           null|                 null|  null|       null| Hill P.FOUL (P1.T1)|\n",
            "|      4|       4|20001116|Mason 17' Jump Sh...|2025-04-19 11:19:00|     1|       193|Anthony Mason|                      MIA|            Miami|     1610612748|                 Heat|         0|           null|                     null|             null|           null|                 null|         0|        null|                     null|             null|           null|                 null|02-Feb|        TIE|                null|\n",
            "+-------+--------+--------+--------------------+-------------------+------+----------+-------------+-------------------------+-----------------+---------------+---------------------+----------+---------------+-------------------------+-----------------+---------------+---------------------+----------+------------+-------------------------+-----------------+---------------+---------------------+------+-----------+--------------------+\n",
            "only showing top 5 rows\n",
            "\n"
          ]
        }
      ]
    },
    {
      "cell_type": "code",
      "source": [
        "from pyspark.sql.functions import udf\n",
        "from pyspark.sql.types import StringType\n",
        "import re\n",
        "\n",
        "# Define month-to-number mapping\n",
        "month_map = {\n",
        "    'Jan': '1', 'Feb': '2', 'Mar': '3', 'Apr': '4',\n",
        "    'May': '5', 'Jun': '6', 'Jul': '7', 'Aug': '8',\n",
        "    'Sep': '9', 'Oct': '10', 'Nov': '11', 'Dec': '12'\n",
        "}\n",
        "\n",
        "def clean_score(score):\n",
        "    if not score or score.strip() == '':\n",
        "        return None\n",
        "\n",
        "    score = score.strip()\n",
        "\n",
        "    # Already valid score format\n",
        "    if re.match(r\"^\\d+\\s*-\\s*\\d+$\", score):\n",
        "        return score\n",
        "\n",
        "    # Handle Month-Day format (e.g., Apr-6 → 6 - 4)\n",
        "    for month_abbr, num in month_map.items():\n",
        "        if month_abbr in score:\n",
        "            parts = score.split('-')\n",
        "            if len(parts) == 2:\n",
        "                if month_abbr in parts[0]:\n",
        "                    return f\"{parts[1].strip()} - {num}\"\n",
        "                elif month_abbr in parts[1]:\n",
        "                    return f\"{parts[0].strip()} - {num}\"\n",
        "\n",
        "    # Try to extract digits in a generic fallback\n",
        "    digits = re.findall(r'\\d+', score)\n",
        "    if len(digits) == 2:\n",
        "        return f\"{digits[0]} - {digits[1]}\"\n",
        "\n",
        "    return None\n",
        "\n",
        "# Register UDF\n",
        "clean_score_udf = udf(clean_score, StringType())\n",
        "\n",
        "# Apply the cleaning function\n",
        "df_cleaned = df.withColumn(\"CLEANED_SCORE\", clean_score_udf(df[\"SCORE\"]))\n",
        "df_cleaned.select(\"SCORE\", \"CLEANED_SCORE\").distinct().show(30, truncate=False)\n"
      ],
      "metadata": {
        "colab": {
          "base_uri": "https://localhost:8080/"
        },
        "id": "jrLTO_x_Bh6l",
        "outputId": "d0fb6a5b-4964-4c58-f252-ddd20ffd5410"
      },
      "execution_count": 9,
      "outputs": [
        {
          "output_type": "stream",
          "name": "stdout",
          "text": [
            "+--------+-------------+\n",
            "|SCORE   |CLEANED_SCORE|\n",
            "+--------+-------------+\n",
            "|63 - 69 |63 - 69      |\n",
            "|83 - 106|83 - 106     |\n",
            "|26 - 29 |26 - 29      |\n",
            "|38 - 39 |38 - 39      |\n",
            "|77 - 90 |77 - 90      |\n",
            "|40 - 42 |40 - 42      |\n",
            "|96 - 90 |96 - 90      |\n",
            "|58 - 50 |58 - 50      |\n",
            "|54 - 74 |54 - 74      |\n",
            "|76 - 83 |76 - 83      |\n",
            "|68 - 103|68 - 103     |\n",
            "|103 - 83|103 - 83     |\n",
            "|71 - 71 |71 - 71      |\n",
            "|49 - 39 |49 - 39      |\n",
            "|47 - 68 |47 - 68      |\n",
            "|70 - 108|70 - 108     |\n",
            "|24 - 44 |24 - 44      |\n",
            "|25 - 31 |25 - 31      |\n",
            "|74 - 112|74 - 112     |\n",
            "|71 - 67 |71 - 67      |\n",
            "|Dec-19  |19 - 12      |\n",
            "|52 - 59 |52 - 59      |\n",
            "|22 - 23 |22 - 23      |\n",
            "|40 - 45 |40 - 45      |\n",
            "|30 - 39 |30 - 39      |\n",
            "|113 - 96|113 - 96     |\n",
            "|27 - 18 |27 - 18      |\n",
            "|15-Apr  |15 - 4       |\n",
            "|48 - 63 |48 - 63      |\n",
            "|81 - 98 |81 - 98      |\n",
            "+--------+-------------+\n",
            "only showing top 30 rows\n",
            "\n"
          ]
        }
      ]
    },
    {
      "cell_type": "code",
      "source": [
        "df.show(5)"
      ],
      "metadata": {
        "colab": {
          "base_uri": "https://localhost:8080/"
        },
        "id": "CGglC2SuBh3h",
        "outputId": "1455a424-2360-4938-abad-12c4e09e2a4f"
      },
      "execution_count": 10,
      "outputs": [
        {
          "output_type": "stream",
          "name": "stdout",
          "text": [
            "+-------+--------+--------+--------------------+-------------------+------+----------+-------------+-------------------------+-----------------+---------------+---------------------+----------+---------------+-------------------------+-----------------+---------------+---------------------+----------+------------+-------------------------+-----------------+---------------+---------------------+------+-----------+--------------------+\n",
            "|EVENTID|EVENTNUM| GAME_ID|     HOMEDESCRIPTION|       PCTIMESTRING|PERIOD|PLAYER1_ID| PLAYER1_NAME|PLAYER1_TEAM_ABBREVIATION|PLAYER1_TEAM_CITY|PLAYER1_TEAM_ID|PLAYER1_TEAM_NICKNAME|PLAYER2_ID|   PLAYER2_NAME|PLAYER2_TEAM_ABBREVIATION|PLAYER2_TEAM_CITY|PLAYER2_TEAM_ID|PLAYER2_TEAM_NICKNAME|PLAYER3_ID|PLAYER3_NAME|PLAYER3_TEAM_ABBREVIATION|PLAYER3_TEAM_CITY|PLAYER3_TEAM_ID|PLAYER3_TEAM_NICKNAME| SCORE|SCOREMARGIN|  VISITORDESCRIPTION|\n",
            "+-------+--------+--------+--------------------+-------------------+------+----------+-------------+-------------------------+-----------------+---------------+---------------------+----------+---------------+-------------------------+-----------------+---------------+---------------------+----------+------------+-------------------------+-----------------+---------------+---------------------+------+-----------+--------------------+\n",
            "|      0|       0|20001116|                null|2025-04-19 12:00:00|     1|         0|         null|                     null|             null|           null|                 null|         0|           null|                     null|             null|           null|                 null|         0|        null|                     null|             null|           null|                 null|  null|       null|                null|\n",
            "|      1|       1|20001116|Jump Ball Grant v...|2025-04-19 12:00:00|     1|       258|  Brian Grant|                      MIA|            Miami|     1610612748|                 Heat|        87|Dikembe Mutombo|                      PHI|     Philadelphia|     1610612755|                76ers|       238| Tyrone Hill|                      PHI|     Philadelphia|     1610612755|                76ers|  null|       null|                null|\n",
            "|      2|       2|20001116|                null|2025-04-19 11:45:00|     1|       947|Allen Iverson|                      PHI|     Philadelphia|     1610612755|                76ers|         0|           null|                     null|             null|           null|                 null|         0|        null|                     null|             null|           null|                 null| 2 - 0|         -2|Iverson 21' Jump ...|\n",
            "|      3|       3|20001116|                null|2025-04-19 11:28:00|     1|       238|  Tyrone Hill|                      PHI|     Philadelphia|     1610612755|                76ers|         0|           null|                     null|             null|           null|                 null|         0|        null|                     null|             null|           null|                 null|  null|       null| Hill P.FOUL (P1.T1)|\n",
            "|      4|       4|20001116|Mason 17' Jump Sh...|2025-04-19 11:19:00|     1|       193|Anthony Mason|                      MIA|            Miami|     1610612748|                 Heat|         0|           null|                     null|             null|           null|                 null|         0|        null|                     null|             null|           null|                 null|02-Feb|        TIE|                null|\n",
            "+-------+--------+--------+--------------------+-------------------+------+----------+-------------+-------------------------+-----------------+---------------+---------------------+----------+---------------+-------------------------+-----------------+---------------+---------------------+----------+------------+-------------------------+-----------------+---------------+---------------------+------+-----------+--------------------+\n",
            "only showing top 5 rows\n",
            "\n"
          ]
        }
      ]
    },
    {
      "cell_type": "code",
      "source": [
        "df_cleaned.show(5)"
      ],
      "metadata": {
        "colab": {
          "base_uri": "https://localhost:8080/"
        },
        "id": "j8p4ZI2WBh02",
        "outputId": "d9d4c498-f870-4cc9-a3a6-0596a7ee4314"
      },
      "execution_count": 11,
      "outputs": [
        {
          "output_type": "stream",
          "name": "stdout",
          "text": [
            "+-------+--------+--------+--------------------+-------------------+------+----------+-------------+-------------------------+-----------------+---------------+---------------------+----------+---------------+-------------------------+-----------------+---------------+---------------------+----------+------------+-------------------------+-----------------+---------------+---------------------+------+-----------+--------------------+-------------+\n",
            "|EVENTID|EVENTNUM| GAME_ID|     HOMEDESCRIPTION|       PCTIMESTRING|PERIOD|PLAYER1_ID| PLAYER1_NAME|PLAYER1_TEAM_ABBREVIATION|PLAYER1_TEAM_CITY|PLAYER1_TEAM_ID|PLAYER1_TEAM_NICKNAME|PLAYER2_ID|   PLAYER2_NAME|PLAYER2_TEAM_ABBREVIATION|PLAYER2_TEAM_CITY|PLAYER2_TEAM_ID|PLAYER2_TEAM_NICKNAME|PLAYER3_ID|PLAYER3_NAME|PLAYER3_TEAM_ABBREVIATION|PLAYER3_TEAM_CITY|PLAYER3_TEAM_ID|PLAYER3_TEAM_NICKNAME| SCORE|SCOREMARGIN|  VISITORDESCRIPTION|CLEANED_SCORE|\n",
            "+-------+--------+--------+--------------------+-------------------+------+----------+-------------+-------------------------+-----------------+---------------+---------------------+----------+---------------+-------------------------+-----------------+---------------+---------------------+----------+------------+-------------------------+-----------------+---------------+---------------------+------+-----------+--------------------+-------------+\n",
            "|      0|       0|20001116|                null|2025-04-19 12:00:00|     1|         0|         null|                     null|             null|           null|                 null|         0|           null|                     null|             null|           null|                 null|         0|        null|                     null|             null|           null|                 null|  null|       null|                null|         null|\n",
            "|      1|       1|20001116|Jump Ball Grant v...|2025-04-19 12:00:00|     1|       258|  Brian Grant|                      MIA|            Miami|     1610612748|                 Heat|        87|Dikembe Mutombo|                      PHI|     Philadelphia|     1610612755|                76ers|       238| Tyrone Hill|                      PHI|     Philadelphia|     1610612755|                76ers|  null|       null|                null|         null|\n",
            "|      2|       2|20001116|                null|2025-04-19 11:45:00|     1|       947|Allen Iverson|                      PHI|     Philadelphia|     1610612755|                76ers|         0|           null|                     null|             null|           null|                 null|         0|        null|                     null|             null|           null|                 null| 2 - 0|         -2|Iverson 21' Jump ...|        2 - 0|\n",
            "|      3|       3|20001116|                null|2025-04-19 11:28:00|     1|       238|  Tyrone Hill|                      PHI|     Philadelphia|     1610612755|                76ers|         0|           null|                     null|             null|           null|                 null|         0|        null|                     null|             null|           null|                 null|  null|       null| Hill P.FOUL (P1.T1)|         null|\n",
            "|      4|       4|20001116|Mason 17' Jump Sh...|2025-04-19 11:19:00|     1|       193|Anthony Mason|                      MIA|            Miami|     1610612748|                 Heat|         0|           null|                     null|             null|           null|                 null|         0|        null|                     null|             null|           null|                 null|02-Feb|        TIE|                null|       02 - 2|\n",
            "+-------+--------+--------+--------------------+-------------------+------+----------+-------------+-------------------------+-----------------+---------------+---------------------+----------+---------------+-------------------------+-----------------+---------------+---------------------+----------+------------+-------------------------+-----------------+---------------+---------------------+------+-----------+--------------------+-------------+\n",
            "only showing top 5 rows\n",
            "\n"
          ]
        }
      ]
    },
    {
      "cell_type": "code",
      "source": [
        "from pyspark.sql.functions import col\n",
        "\n",
        "df_cleaned = df_cleaned.withColumn(\"SCOREMARGIN_INT\", col(\"SCOREMARGIN\").cast(\"int\"))"
      ],
      "metadata": {
        "id": "_MRZvnZmP4Q0"
      },
      "execution_count": 12,
      "outputs": []
    },
    {
      "cell_type": "code",
      "source": [
        "from pyspark.sql.functions import split, col\n",
        "\n",
        "# Split CLEANED_SCORE into two new columns: HOME_SCORE and VISITOR_SCORE\n",
        "df_cleaned = df_cleaned.withColumn(\"HOME_SCORE\", split(col(\"CLEANED_SCORE\"), \" - \").getItem(0).cast(\"int\")) \\\n",
        "                           .withColumn(\"VISITOR_SCORE\", split(col(\"CLEANED_SCORE\"), \" - \").getItem(1).cast(\"int\"))\n"
      ],
      "metadata": {
        "id": "_pBbAYkxBhyJ"
      },
      "execution_count": 13,
      "outputs": []
    },
    {
      "cell_type": "code",
      "source": [
        "df_cleaned.show(5)"
      ],
      "metadata": {
        "colab": {
          "base_uri": "https://localhost:8080/"
        },
        "id": "Jb7WMalZPq18",
        "outputId": "d89bd8a9-e404-4f04-b4c7-4600103c2d51"
      },
      "execution_count": 14,
      "outputs": [
        {
          "output_type": "stream",
          "name": "stdout",
          "text": [
            "+-------+--------+--------+--------------------+-------------------+------+----------+-------------+-------------------------+-----------------+---------------+---------------------+----------+---------------+-------------------------+-----------------+---------------+---------------------+----------+------------+-------------------------+-----------------+---------------+---------------------+------+-----------+--------------------+-------------+---------------+----------+-------------+\n",
            "|EVENTID|EVENTNUM| GAME_ID|     HOMEDESCRIPTION|       PCTIMESTRING|PERIOD|PLAYER1_ID| PLAYER1_NAME|PLAYER1_TEAM_ABBREVIATION|PLAYER1_TEAM_CITY|PLAYER1_TEAM_ID|PLAYER1_TEAM_NICKNAME|PLAYER2_ID|   PLAYER2_NAME|PLAYER2_TEAM_ABBREVIATION|PLAYER2_TEAM_CITY|PLAYER2_TEAM_ID|PLAYER2_TEAM_NICKNAME|PLAYER3_ID|PLAYER3_NAME|PLAYER3_TEAM_ABBREVIATION|PLAYER3_TEAM_CITY|PLAYER3_TEAM_ID|PLAYER3_TEAM_NICKNAME| SCORE|SCOREMARGIN|  VISITORDESCRIPTION|CLEANED_SCORE|SCOREMARGIN_INT|HOME_SCORE|VISITOR_SCORE|\n",
            "+-------+--------+--------+--------------------+-------------------+------+----------+-------------+-------------------------+-----------------+---------------+---------------------+----------+---------------+-------------------------+-----------------+---------------+---------------------+----------+------------+-------------------------+-----------------+---------------+---------------------+------+-----------+--------------------+-------------+---------------+----------+-------------+\n",
            "|      0|       0|20001116|                null|2025-04-19 12:00:00|     1|         0|         null|                     null|             null|           null|                 null|         0|           null|                     null|             null|           null|                 null|         0|        null|                     null|             null|           null|                 null|  null|       null|                null|         null|           null|      null|         null|\n",
            "|      1|       1|20001116|Jump Ball Grant v...|2025-04-19 12:00:00|     1|       258|  Brian Grant|                      MIA|            Miami|     1610612748|                 Heat|        87|Dikembe Mutombo|                      PHI|     Philadelphia|     1610612755|                76ers|       238| Tyrone Hill|                      PHI|     Philadelphia|     1610612755|                76ers|  null|       null|                null|         null|           null|      null|         null|\n",
            "|      2|       2|20001116|                null|2025-04-19 11:45:00|     1|       947|Allen Iverson|                      PHI|     Philadelphia|     1610612755|                76ers|         0|           null|                     null|             null|           null|                 null|         0|        null|                     null|             null|           null|                 null| 2 - 0|         -2|Iverson 21' Jump ...|        2 - 0|             -2|         2|            0|\n",
            "|      3|       3|20001116|                null|2025-04-19 11:28:00|     1|       238|  Tyrone Hill|                      PHI|     Philadelphia|     1610612755|                76ers|         0|           null|                     null|             null|           null|                 null|         0|        null|                     null|             null|           null|                 null|  null|       null| Hill P.FOUL (P1.T1)|         null|           null|      null|         null|\n",
            "|      4|       4|20001116|Mason 17' Jump Sh...|2025-04-19 11:19:00|     1|       193|Anthony Mason|                      MIA|            Miami|     1610612748|                 Heat|         0|           null|                     null|             null|           null|                 null|         0|        null|                     null|             null|           null|                 null|02-Feb|        TIE|                null|       02 - 2|           null|         2|            2|\n",
            "+-------+--------+--------+--------------------+-------------------+------+----------+-------------+-------------------------+-----------------+---------------+---------------------+----------+---------------+-------------------------+-----------------+---------------+---------------------+----------+------------+-------------------------+-----------------+---------------+---------------------+------+-----------+--------------------+-------------+---------------+----------+-------------+\n",
            "only showing top 5 rows\n",
            "\n"
          ]
        }
      ]
    },
    {
      "cell_type": "code",
      "source": [
        "# spark.conf.set(\"spark.sql.execution.pandas.convertToPythonArrow\", \"false\")"
      ],
      "metadata": {
        "id": "J-7N9hTgRl-W"
      },
      "execution_count": 15,
      "outputs": []
    },
    {
      "cell_type": "code",
      "source": [
        "from pyspark.sql.functions import col, count, when\n",
        "\n",
        "# Total row count\n",
        "total_rows = df_cleaned.count()\n",
        "\n",
        "# Missing value count per column\n",
        "missing_data = df_cleaned.select([\n",
        "    (count(when(col(c).isNull(), c)) / total_rows * 100).alias(c)\n",
        "    for c in df_cleaned.columns\n",
        "])\n",
        "\n",
        "# Show missing percentage for each column\n",
        "missing_data.show(truncate=False)\n"
      ],
      "metadata": {
        "colab": {
          "base_uri": "https://localhost:8080/"
        },
        "id": "O6I8UKoNQ2Gh",
        "outputId": "f9b1680a-c368-436f-c8b6-a3cf2fe0ae7e"
      },
      "execution_count": 16,
      "outputs": [
        {
          "output_type": "stream",
          "name": "stdout",
          "text": [
            "+-------+--------+-------+-----------------+------------+------+----------+----------------+-------------------------+-----------------+----------------+---------------------+----------+----------------+-------------------------+-----------------+----------------+---------------------+----------+-----------------+-------------------------+-----------------+-----------------+---------------------+-----------------+-----------------+------------------+-----------------+-----------------+-----------------+-----------------+\n",
            "|EVENTID|EVENTNUM|GAME_ID|HOMEDESCRIPTION  |PCTIMESTRING|PERIOD|PLAYER1_ID|PLAYER1_NAME    |PLAYER1_TEAM_ABBREVIATION|PLAYER1_TEAM_CITY|PLAYER1_TEAM_ID |PLAYER1_TEAM_NICKNAME|PLAYER2_ID|PLAYER2_NAME    |PLAYER2_TEAM_ABBREVIATION|PLAYER2_TEAM_CITY|PLAYER2_TEAM_ID |PLAYER2_TEAM_NICKNAME|PLAYER3_ID|PLAYER3_NAME     |PLAYER3_TEAM_ABBREVIATION|PLAYER3_TEAM_CITY|PLAYER3_TEAM_ID  |PLAYER3_TEAM_NICKNAME|SCORE            |SCOREMARGIN      |VISITORDESCRIPTION|CLEANED_SCORE    |SCOREMARGIN_INT  |HOME_SCORE       |VISITOR_SCORE    |\n",
            "+-------+--------+-------+-----------------+------------+------+----------+----------------+-------------------------+-----------------+----------------+---------------------+----------+----------------+-------------------------+-----------------+----------------+---------------------+----------+-----------------+-------------------------+-----------------+-----------------+---------------------+-----------------+-----------------+------------------+-----------------+-----------------+-----------------+-----------------+\n",
            "|0.0    |0.0     |0.0    |47.90477193721689|0.0         |0.0   |0.0       |9.16043400400295|9.16043400400295         |9.16043400400295 |9.16043400400295|9.16043400400295     |0.0       |78.6516380490888|78.6516380490888         |78.6516380490888 |78.6516380490888|78.6516380490888     |0.0       |97.12208996102392|97.12208996102392        |97.12208996102392|97.12208996102392|97.12208996102392    |74.13462551353629|74.13462551353629|48.553671126092915|74.13462551353629|75.28283998735911|74.13462551353629|74.13462551353629|\n",
            "+-------+--------+-------+-----------------+------------+------+----------+----------------+-------------------------+-----------------+----------------+---------------------+----------+----------------+-------------------------+-----------------+----------------+---------------------+----------+-----------------+-------------------------+-----------------+-----------------+---------------------+-----------------+-----------------+------------------+-----------------+-----------------+-----------------+-----------------+\n",
            "\n"
          ]
        }
      ]
    },
    {
      "cell_type": "code",
      "source": [
        "df_cleaned_filtered = df_cleaned.na.drop(subset=[\"CLEANED_SCORE\", \"HOME_SCORE\", \"VISITOR_SCORE\", \"SCOREMARGIN_INT\"])"
      ],
      "metadata": {
        "id": "AZuoTLi9TOZj"
      },
      "execution_count": 17,
      "outputs": []
    },
    {
      "cell_type": "code",
      "source": [
        "from pyspark.sql.functions import col\n",
        "\n",
        "df_cleaned_filtered = df_cleaned_filtered.withColumn(\"HOME_SCORE\", col(\"HOME_SCORE\").cast(\"int\")) \\\n",
        "                                         .withColumn(\"VISITOR_SCORE\", col(\"VISITOR_SCORE\").cast(\"int\")) \\\n",
        "                                         .withColumn(\"SCOREMARGIN_INT\", col(\"SCOREMARGIN_INT\").cast(\"int\"))\n"
      ],
      "metadata": {
        "id": "LuaIs-4lTRQD"
      },
      "execution_count": 18,
      "outputs": []
    },
    {
      "cell_type": "code",
      "source": [
        "from pyspark.sql.functions import col, count, when\n",
        "\n",
        "# Total row count\n",
        "total_rows = df_cleaned_filtered.count()\n",
        "\n",
        "# Missing value count per column\n",
        "missing_data2 = df_cleaned_filtered.select([\n",
        "    (count(when(col(c).isNull(), c)) / total_rows * 100).alias(c)\n",
        "    for c in df_cleaned_filtered.columns\n",
        "])\n",
        "\n",
        "# Show missing percentage for each column\n",
        "missing_data2.show(truncate=False)\n"
      ],
      "metadata": {
        "colab": {
          "base_uri": "https://localhost:8080/"
        },
        "id": "VSq-4_l1ThC1",
        "outputId": "288deeb4-806a-48b8-d7e0-3149c3b90ac6"
      },
      "execution_count": 19,
      "outputs": [
        {
          "output_type": "stream",
          "name": "stdout",
          "text": [
            "+-------+--------+-------+------------------+------------+------+----------+-----------------+-------------------------+-----------------+-----------------+---------------------+----------+-----------------+-------------------------+-----------------+-----------------+---------------------+----------+------------+-------------------------+-----------------+---------------+---------------------+-----+-----------+------------------+-------------+---------------+----------+-------------+\n",
            "|EVENTID|EVENTNUM|GAME_ID|HOMEDESCRIPTION   |PCTIMESTRING|PERIOD|PLAYER1_ID|PLAYER1_NAME     |PLAYER1_TEAM_ABBREVIATION|PLAYER1_TEAM_CITY|PLAYER1_TEAM_ID  |PLAYER1_TEAM_NICKNAME|PLAYER2_ID|PLAYER2_NAME     |PLAYER2_TEAM_ABBREVIATION|PLAYER2_TEAM_CITY|PLAYER2_TEAM_ID  |PLAYER2_TEAM_NICKNAME|PLAYER3_ID|PLAYER3_NAME|PLAYER3_TEAM_ABBREVIATION|PLAYER3_TEAM_CITY|PLAYER3_TEAM_ID|PLAYER3_TEAM_NICKNAME|SCORE|SCOREMARGIN|VISITORDESCRIPTION|CLEANED_SCORE|SCOREMARGIN_INT|HOME_SCORE|VISITOR_SCORE|\n",
            "+-------+--------+-------+------------------+------------+------+----------+-----------------+-------------------------+-----------------+-----------------+---------------------+----------+-----------------+-------------------------+-----------------+-----------------+---------------------+----------+------------+-------------------------+-----------------+---------------+---------------------+-----+-----------+------------------+-------------+---------------+----------+-------------+\n",
            "|0.0    |0.0     |0.0    |51.917831571769526|0.0         |0.0   |0.0       |6.120013637913399|6.120013637913399        |6.120013637913399|6.120013637913399|6.120013637913399    |0.0       |62.49573815206273|62.49573815206273        |62.49573815206273|62.49573815206273|62.49573815206273    |0.0       |100.0       |100.0                    |100.0            |100.0          |100.0                |0.0  |0.0        |54.20218206614388 |0.0          |0.0            |0.0       |0.0          |\n",
            "+-------+--------+-------+------------------+------------+------+----------+-----------------+-------------------------+-----------------+-----------------+---------------------+----------+-----------------+-------------------------+-----------------+-----------------+---------------------+----------+------------+-------------------------+-----------------+---------------+---------------------+-----+-----------+------------------+-------------+---------------+----------+-------------+\n",
            "\n"
          ]
        }
      ]
    },
    {
      "cell_type": "code",
      "source": [
        "from pyspark.sql.functions import col\n",
        "\n",
        "# Drop original columns\n",
        "df_prepared = df_cleaned_filtered.drop(\"SCORE\", \"SCOREMARGIN\")"
      ],
      "metadata": {
        "id": "zKEg4aMmUmzc"
      },
      "execution_count": 20,
      "outputs": []
    },
    {
      "cell_type": "code",
      "source": [
        "df_prepared.show(5)"
      ],
      "metadata": {
        "colab": {
          "base_uri": "https://localhost:8080/"
        },
        "id": "pUGTKqgkVMic",
        "outputId": "248f5875-048f-487d-d346-37755ffa8d7d"
      },
      "execution_count": 21,
      "outputs": [
        {
          "output_type": "stream",
          "name": "stdout",
          "text": [
            "+-------+--------+--------+--------------------+-------------------+------+----------+-------------+-------------------------+-----------------+---------------+---------------------+----------+---------------+-------------------------+-----------------+---------------+---------------------+----------+------------+-------------------------+-----------------+---------------+---------------------+--------------------+-------------+---------------+----------+-------------+\n",
            "|EVENTID|EVENTNUM| GAME_ID|     HOMEDESCRIPTION|       PCTIMESTRING|PERIOD|PLAYER1_ID| PLAYER1_NAME|PLAYER1_TEAM_ABBREVIATION|PLAYER1_TEAM_CITY|PLAYER1_TEAM_ID|PLAYER1_TEAM_NICKNAME|PLAYER2_ID|   PLAYER2_NAME|PLAYER2_TEAM_ABBREVIATION|PLAYER2_TEAM_CITY|PLAYER2_TEAM_ID|PLAYER2_TEAM_NICKNAME|PLAYER3_ID|PLAYER3_NAME|PLAYER3_TEAM_ABBREVIATION|PLAYER3_TEAM_CITY|PLAYER3_TEAM_ID|PLAYER3_TEAM_NICKNAME|  VISITORDESCRIPTION|CLEANED_SCORE|SCOREMARGIN_INT|HOME_SCORE|VISITOR_SCORE|\n",
            "+-------+--------+--------+--------------------+-------------------+------+----------+-------------+-------------------------+-----------------+---------------+---------------------+----------+---------------+-------------------------+-----------------+---------------+---------------------+----------+------------+-------------------------+-----------------+---------------+---------------------+--------------------+-------------+---------------+----------+-------------+\n",
            "|      2|       2|20001116|                null|2025-04-19 11:45:00|     1|       947|Allen Iverson|                      PHI|     Philadelphia|     1610612755|                76ers|         0|           null|                     null|             null|           null|                 null|         0|        null|                     null|             null|           null|                 null|Iverson 21' Jump ...|        2 - 0|             -2|         2|            0|\n",
            "|      9|       9|20001116|                null|2025-04-19 10:44:00|     1|       248| George Lynch|                      PHI|     Philadelphia|     1610612755|                76ers|       727|      Eric Snow|                      PHI|     Philadelphia|     1610612755|                76ers|         0|        null|                     null|             null|           null|                 null|Lynch  Layup (2 P...|       04 - 2|             -2|         4|            2|\n",
            "|     19|      19|20001116|                null|2025-04-19 09:45:00|     1|       947|Allen Iverson|                      PHI|     Philadelphia|     1610612755|                76ers|         0|           null|                     null|             null|           null|                 null|         0|        null|                     null|             null|           null|                 null|Iverson  Driving ...|       06 - 2|             -4|         6|            2|\n",
            "|     23|      24|20001116|                null|2025-04-19 09:15:00|     1|       947|Allen Iverson|                      PHI|     Philadelphia|     1610612755|                76ers|        87|Dikembe Mutombo|                      PHI|     Philadelphia|     1610612755|                76ers|         0|        null|                     null|             null|           null|                 null|Iverson 24' 3PT J...|       09 - 2|             -7|         9|            2|\n",
            "|     24|      25|20001116|Grant 17' Jump Sh...|2025-04-19 08:54:00|     1|       258|  Brian Grant|                      MIA|            Miami|     1610612748|                 Heat|       105|    Dan Majerle|                      MIA|            Miami|     1610612748|                 Heat|         0|        null|                     null|             null|           null|                 null|                null|       09 - 4|             -5|         9|            4|\n",
            "+-------+--------+--------+--------------------+-------------------+------+----------+-------------+-------------------------+-----------------+---------------+---------------------+----------+---------------+-------------------------+-----------------+---------------+---------------------+----------+------------+-------------------------+-----------------+---------------+---------------------+--------------------+-------------+---------------+----------+-------------+\n",
            "only showing top 5 rows\n",
            "\n"
          ]
        }
      ]
    },
    {
      "cell_type": "code",
      "source": [
        "# Rename new processed columns\n",
        "df_prepared = df_prepared.withColumnRenamed(\"CLEANED_SCORE\", \"SCORE\") \\\n",
        "                         .withColumnRenamed(\"SCOREMARGIN_INT\", \"SCOREMARGIN\")"
      ],
      "metadata": {
        "id": "XJsmsiuEVMNW"
      },
      "execution_count": 22,
      "outputs": []
    },
    {
      "cell_type": "code",
      "source": [
        "# Show updated DataFrame schema\n",
        "df_prepared.printSchema()"
      ],
      "metadata": {
        "colab": {
          "base_uri": "https://localhost:8080/"
        },
        "id": "SYDLFwXAUw5v",
        "outputId": "ea5d4e9d-7988-4d8a-f84c-bf53121f7482"
      },
      "execution_count": 23,
      "outputs": [
        {
          "output_type": "stream",
          "name": "stdout",
          "text": [
            "root\n",
            " |-- EVENTID: integer (nullable = true)\n",
            " |-- EVENTNUM: integer (nullable = true)\n",
            " |-- GAME_ID: integer (nullable = true)\n",
            " |-- HOMEDESCRIPTION: string (nullable = true)\n",
            " |-- PCTIMESTRING: timestamp (nullable = true)\n",
            " |-- PERIOD: integer (nullable = true)\n",
            " |-- PLAYER1_ID: integer (nullable = true)\n",
            " |-- PLAYER1_NAME: string (nullable = true)\n",
            " |-- PLAYER1_TEAM_ABBREVIATION: string (nullable = true)\n",
            " |-- PLAYER1_TEAM_CITY: string (nullable = true)\n",
            " |-- PLAYER1_TEAM_ID: integer (nullable = true)\n",
            " |-- PLAYER1_TEAM_NICKNAME: string (nullable = true)\n",
            " |-- PLAYER2_ID: integer (nullable = true)\n",
            " |-- PLAYER2_NAME: string (nullable = true)\n",
            " |-- PLAYER2_TEAM_ABBREVIATION: string (nullable = true)\n",
            " |-- PLAYER2_TEAM_CITY: string (nullable = true)\n",
            " |-- PLAYER2_TEAM_ID: integer (nullable = true)\n",
            " |-- PLAYER2_TEAM_NICKNAME: string (nullable = true)\n",
            " |-- PLAYER3_ID: integer (nullable = true)\n",
            " |-- PLAYER3_NAME: string (nullable = true)\n",
            " |-- PLAYER3_TEAM_ABBREVIATION: string (nullable = true)\n",
            " |-- PLAYER3_TEAM_CITY: string (nullable = true)\n",
            " |-- PLAYER3_TEAM_ID: integer (nullable = true)\n",
            " |-- PLAYER3_TEAM_NICKNAME: string (nullable = true)\n",
            " |-- VISITORDESCRIPTION: string (nullable = true)\n",
            " |-- SCORE: string (nullable = true)\n",
            " |-- SCOREMARGIN: integer (nullable = true)\n",
            " |-- HOME_SCORE: integer (nullable = true)\n",
            " |-- VISITOR_SCORE: integer (nullable = true)\n",
            "\n"
          ]
        }
      ]
    },
    {
      "cell_type": "code",
      "source": [
        "# Show top few rows\n",
        "df_prepared.show(5)"
      ],
      "metadata": {
        "colab": {
          "base_uri": "https://localhost:8080/"
        },
        "id": "6ZR94I53UzBG",
        "outputId": "cb8ec4ec-2991-4258-e7df-1b35b4448c40"
      },
      "execution_count": 24,
      "outputs": [
        {
          "output_type": "stream",
          "name": "stdout",
          "text": [
            "+-------+--------+--------+--------------------+-------------------+------+----------+-------------+-------------------------+-----------------+---------------+---------------------+----------+---------------+-------------------------+-----------------+---------------+---------------------+----------+------------+-------------------------+-----------------+---------------+---------------------+--------------------+------+-----------+----------+-------------+\n",
            "|EVENTID|EVENTNUM| GAME_ID|     HOMEDESCRIPTION|       PCTIMESTRING|PERIOD|PLAYER1_ID| PLAYER1_NAME|PLAYER1_TEAM_ABBREVIATION|PLAYER1_TEAM_CITY|PLAYER1_TEAM_ID|PLAYER1_TEAM_NICKNAME|PLAYER2_ID|   PLAYER2_NAME|PLAYER2_TEAM_ABBREVIATION|PLAYER2_TEAM_CITY|PLAYER2_TEAM_ID|PLAYER2_TEAM_NICKNAME|PLAYER3_ID|PLAYER3_NAME|PLAYER3_TEAM_ABBREVIATION|PLAYER3_TEAM_CITY|PLAYER3_TEAM_ID|PLAYER3_TEAM_NICKNAME|  VISITORDESCRIPTION| SCORE|SCOREMARGIN|HOME_SCORE|VISITOR_SCORE|\n",
            "+-------+--------+--------+--------------------+-------------------+------+----------+-------------+-------------------------+-----------------+---------------+---------------------+----------+---------------+-------------------------+-----------------+---------------+---------------------+----------+------------+-------------------------+-----------------+---------------+---------------------+--------------------+------+-----------+----------+-------------+\n",
            "|      2|       2|20001116|                null|2025-04-19 11:45:00|     1|       947|Allen Iverson|                      PHI|     Philadelphia|     1610612755|                76ers|         0|           null|                     null|             null|           null|                 null|         0|        null|                     null|             null|           null|                 null|Iverson 21' Jump ...| 2 - 0|         -2|         2|            0|\n",
            "|      9|       9|20001116|                null|2025-04-19 10:44:00|     1|       248| George Lynch|                      PHI|     Philadelphia|     1610612755|                76ers|       727|      Eric Snow|                      PHI|     Philadelphia|     1610612755|                76ers|         0|        null|                     null|             null|           null|                 null|Lynch  Layup (2 P...|04 - 2|         -2|         4|            2|\n",
            "|     19|      19|20001116|                null|2025-04-19 09:45:00|     1|       947|Allen Iverson|                      PHI|     Philadelphia|     1610612755|                76ers|         0|           null|                     null|             null|           null|                 null|         0|        null|                     null|             null|           null|                 null|Iverson  Driving ...|06 - 2|         -4|         6|            2|\n",
            "|     23|      24|20001116|                null|2025-04-19 09:15:00|     1|       947|Allen Iverson|                      PHI|     Philadelphia|     1610612755|                76ers|        87|Dikembe Mutombo|                      PHI|     Philadelphia|     1610612755|                76ers|         0|        null|                     null|             null|           null|                 null|Iverson 24' 3PT J...|09 - 2|         -7|         9|            2|\n",
            "|     24|      25|20001116|Grant 17' Jump Sh...|2025-04-19 08:54:00|     1|       258|  Brian Grant|                      MIA|            Miami|     1610612748|                 Heat|       105|    Dan Majerle|                      MIA|            Miami|     1610612748|                 Heat|         0|        null|                     null|             null|           null|                 null|                null|09 - 4|         -5|         9|            4|\n",
            "+-------+--------+--------+--------------------+-------------------+------+----------+-------------+-------------------------+-----------------+---------------+---------------------+----------+---------------+-------------------------+-----------------+---------------+---------------------+----------+------------+-------------------------+-----------------+---------------+---------------------+--------------------+------+-----------+----------+-------------+\n",
            "only showing top 5 rows\n",
            "\n"
          ]
        }
      ]
    },
    {
      "cell_type": "code",
      "source": [
        "df_prepared.describe().show()"
      ],
      "metadata": {
        "colab": {
          "base_uri": "https://localhost:8080/"
        },
        "id": "B5Q1nsLM5MLn",
        "outputId": "87b60f74-9641-4809-810c-4d9ff06403e2"
      },
      "execution_count": 25,
      "outputs": [
        {
          "output_type": "stream",
          "name": "stdout",
          "text": [
            "+-------+------------------+------------------+-------------------+--------------------+------------------+-----------------+------------+-------------------------+-----------------+--------------------+---------------------+------------------+------------+-------------------------+-----------------+--------------------+---------------------+----------+------------+-------------------------+-----------------+---------------+---------------------+--------------------+-------+------------------+------------------+------------------+\n",
            "|summary|           EVENTID|          EVENTNUM|            GAME_ID|     HOMEDESCRIPTION|            PERIOD|       PLAYER1_ID|PLAYER1_NAME|PLAYER1_TEAM_ABBREVIATION|PLAYER1_TEAM_CITY|     PLAYER1_TEAM_ID|PLAYER1_TEAM_NICKNAME|        PLAYER2_ID|PLAYER2_NAME|PLAYER2_TEAM_ABBREVIATION|PLAYER2_TEAM_CITY|     PLAYER2_TEAM_ID|PLAYER2_TEAM_NICKNAME|PLAYER3_ID|PLAYER3_NAME|PLAYER3_TEAM_ABBREVIATION|PLAYER3_TEAM_CITY|PLAYER3_TEAM_ID|PLAYER3_TEAM_NICKNAME|  VISITORDESCRIPTION|  SCORE|       SCOREMARGIN|        HOME_SCORE|     VISITOR_SCORE|\n",
            "+-------+------------------+------------------+-------------------+--------------------+------------------+-----------------+------------+-------------------------+-----------------+--------------------+---------------------+------------------+------------+-------------------------+-----------------+--------------------+---------------------+----------+------------+-------------------------+-----------------+---------------+---------------------+--------------------+-------+------------------+------------------+------------------+\n",
            "|  count|             11732|             11732|              11732|                5641|             11732|            11732|       11014|                    11014|            11014|               11014|                11014|             11732|        4400|                     4400|             4400|                4400|                 4400|     11732|           0|                        0|                0|              0|                    0|                5373|  11732|             11732|             11732|             11732|\n",
            "|   mean|230.58907262188885|243.81571769519263|2.000066032091715E7|                null|2.5548073644732354|934.0814865325605|        null|                     null|             null|1.6106127517905393E9|                 null|358.66970678486194|        null|                     null|             null|1.6106127517888637E9|                 null|       0.0|        null|                     null|             null|           null|                 null|                null|   null|2.8911524036822365|49.641578588475966| 52.11217183770883|\n",
            "| stddev|132.65286799586977|141.64982305242424|   343.678823625265|                null| 1.116279320476424|690.1947925029815|        null|                     null|             null|   8.601901693318926|                 null| 619.3323698619831|        null|                     null|             null|   8.655158256301746|                 null|       0.0|        null|                     null|             null|           null|                 null|                null|   null|11.032132768609063|28.045680794592297|29.379747842934737|\n",
            "|    min|                 2|                 1|           20000006|Abdul-Wahad  Layu...|                 1|                0|  A.C. Green|                      ATL|          Atlanta|          1610612737|                76ers|                 0|  A.C. Green|                      ATL|          Atlanta|          1610612737|                76ers|         0|        null|                     null|             null|           null|                 null|Abdul-Rauf  Layup...|  0 - 1|               -36|                 0|                 0|\n",
            "|    max|               582|               622|           20001189|Wright Free Throw...|                 5|             2130|   Zan Tabak|                      WAS|       Washington|          1610612766|              Wizards|              2173|   Zan Tabak|                      WAS|       Washington|          1610612766|              Wizards|         0|        null|                     null|             null|           null|                 null|Wright 15' Jump S...|99 - 98|                40|               129|               126|\n",
            "+-------+------------------+------------------+-------------------+--------------------+------------------+-----------------+------------+-------------------------+-----------------+--------------------+---------------------+------------------+------------+-------------------------+-----------------+--------------------+---------------------+----------+------------+-------------------------+-----------------+---------------+---------------------+--------------------+-------+------------------+------------------+------------------+\n",
            "\n"
          ]
        }
      ]
    },
    {
      "cell_type": "code",
      "source": [
        "df_prepared.write.csv(\"Cleaned-NBA\", header=True)"
      ],
      "metadata": {
        "id": "QVw1Mr_thYdg"
      },
      "execution_count": 36,
      "outputs": []
    },
    {
      "cell_type": "code",
      "source": [
        "import os\n",
        "import pandas as pd\n",
        "from glob import glob\n",
        "\n",
        "# Path to the folder where Spark saved the CSV parts\n",
        "folder_path = '/content/Cleaned-NBA'  # Update if different\n",
        "\n",
        "# Get list of part files (ignore _SUCCESS file)\n",
        "part_files = sorted(glob(os.path.join(folder_path, 'part-*.csv')))\n",
        "\n",
        "# Read and combine all part files\n",
        "df_list = []\n",
        "for idx, file in enumerate(part_files):\n",
        "    df = pd.read_csv(file, header=0 if idx == 0 else None)  # Only keep header from first file\n",
        "    df_list.append(df)\n",
        "\n",
        "# Concatenate all into a single DataFrame\n",
        "df_combined = pd.concat(df_list, ignore_index=True)\n",
        "\n",
        "# Save as one CSV\n",
        "output_file = '/content/NBA-Cleaned-Merged.csv'\n",
        "df_combined.to_csv(output_file, index=False)\n",
        "\n",
        "print(f\"✅ Merged CSV saved to: {output_file}\")\n"
      ],
      "metadata": {
        "colab": {
          "base_uri": "https://localhost:8080/"
        },
        "id": "3D0aq3CBirbl",
        "outputId": "5d47c539-237b-438a-e236-7214de15a1d0"
      },
      "execution_count": 37,
      "outputs": [
        {
          "output_type": "stream",
          "name": "stdout",
          "text": [
            "✅ Merged CSV saved to: /content/NBA-Cleaned-Merged.csv\n"
          ]
        }
      ]
    }
  ]
}